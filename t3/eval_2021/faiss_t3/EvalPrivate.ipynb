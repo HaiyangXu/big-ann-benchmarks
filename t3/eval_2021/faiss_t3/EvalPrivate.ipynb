{
 "cells": [
  {
   "cell_type": "markdown",
   "metadata": {},
   "source": [
    "# T3 Analysis For The FAISS Baseline and GPU Hardware (Private Query Set)"
   ]
  },
  {
   "cell_type": "code",
   "execution_count": null,
   "metadata": {
    "tags": []
   },
   "outputs": [],
   "source": [
    "import sys\n",
    "sys.path.append(\"../..\") # make sure we can import t3eval.py from the toplevel 't3' directory\n",
    "import t3eval\n",
    "import importlib\n",
    "importlib.reload(t3eval)\n",
    "evaluator = t3eval.Evaluator(\"FAISS GPU Baseline (Private)\", # name of team/algo\n",
    "                             comp_path=\"../../competition2021.json\", # competition constants\n",
    "                             verbose=False, # recommended True for debugging\n",
    "                             is_baseline=True,\n",
    "                             pending = [],\n",
    "                             print_best=False\n",
    "                            )\n",
    "evaluator.load_state_from_files(\"./private_summary.json\",\"./private_evals.json\")\n",
    "#evaluator.eval_all()\n",
    "#evaluator.commit_baseline(\"../../baseline2021.json\")\n",
    "#evaluator.show_summary(savepath=\"baseline_focused_summary.png\")"
   ]
  },
  {
   "cell_type": "markdown",
   "metadata": {},
   "source": [
    "## Deep1B Analysis"
   ]
  },
  {
   "cell_type": "code",
   "execution_count": null,
   "metadata": {
    "tags": []
   },
   "outputs": [],
   "source": [
    "%matplotlib inline\n",
    "evaluator.plot_recall(\"deep-1B\", \n",
    "        zoom=[[1000,5000],[0.90, 0.99]], # provide zoom subplot extents\n",
    "        tweak=[[700,0],[-1000,0.01]], # adjust text annotation\n",
    "        savepath=\"private_deep-1B_recall.png\"\n",
    ") "
   ]
  },
  {
   "cell_type": "code",
   "execution_count": null,
   "metadata": {
    "tags": []
   },
   "outputs": [],
   "source": [
    "%matplotlib inline\n",
    "evaluator.plot_throughput(\"deep-1B\", \n",
    "        zoom=[[0.85, 0.93],[3000,5000]], # provide zoom subplot extents\n",
    "        tweak=[[0.01,-200],[-0.03,300]], # adjust text annotation\n",
    "        savepath=\"private_deep-1B_throughput.png\"\n",
    ") "
   ]
  },
  {
   "cell_type": "code",
   "execution_count": null,
   "metadata": {
    "tags": []
   },
   "outputs": [],
   "source": [
    "%matplotlib inline\n",
    "evaluator.plot_power(\"deep-1B\", \n",
    "        tweak=[[0.010,0.02],[-2000,0.02]], # adjust text annotation\n",
    "        savepath=\"private_deep-1B_power.png\"\n",
    ") "
   ]
  },
  {
   "cell_type": "markdown",
   "metadata": {},
   "source": [
    "## Bigann-1B Analysis"
   ]
  },
  {
   "cell_type": "code",
   "execution_count": null,
   "metadata": {
    "tags": []
   },
   "outputs": [],
   "source": [
    "%matplotlib inline\n",
    "evaluator.plot_recall(\"bigann-1B\", \n",
    "        zoom=[[0,5000],[0.90, 1.0]], # provide zoom subplot extents\n",
    "        tweak=[[200,0],[-1000,0.02]], # adjust text annotation\n",
    "        savepath=\"private_bigann-1B_recall.png\"\n",
    ") "
   ]
  },
  {
   "cell_type": "code",
   "execution_count": null,
   "metadata": {
    "tags": []
   },
   "outputs": [],
   "source": [
    "%matplotlib inline\n",
    "evaluator.plot_throughput(\"bigann-1B\", \n",
    "        zoom=[[0.8, 0.99],[1000,4000]], # provide zoom subplot extents\n",
    "        tweak=[[-0.01,200],[-0.04,200]], # adjust text annotation\n",
    "        savepath=\"private_bigann-1B_throughput.png\"\n",
    ") "
   ]
  },
  {
   "cell_type": "code",
   "execution_count": null,
   "metadata": {
    "tags": []
   },
   "outputs": [],
   "source": [
    "%matplotlib inline\n",
    "evaluator.plot_power(\"bigann-1B\", \n",
    "        tweak=[[-0.01,0.01],[-1000,0.01]], # adjust text annotation\n",
    "        savepath=\"private_bigann-1B_power.png\"\n",
    ") "
   ]
  },
  {
   "cell_type": "markdown",
   "metadata": {},
   "source": [
    "## Text2Image-1B Analysis"
   ]
  },
  {
   "cell_type": "code",
   "execution_count": null,
   "metadata": {
    "tags": []
   },
   "outputs": [],
   "source": [
    "%matplotlib inline\n",
    "evaluator.plot_recall(\"text2image-1B\", \n",
    "        zoom=[[1500,3000],[0.50, 0.8]], # provide zoom subplot extents\n",
    "        tweak=[[500,0.0],[-0,0.01]], # adjust text annotation\n",
    "        savepath=\"private_text2image-1B_recall.png\"\n",
    ") "
   ]
  },
  {
   "cell_type": "code",
   "execution_count": null,
   "metadata": {
    "tags": []
   },
   "outputs": [],
   "source": [
    "%matplotlib inline\n",
    "evaluator.plot_throughput(\"text2image-1B\", \n",
    "        zoom=[[0.50,0.80],[1500, 3000]], # provide zoom subplot extents\n",
    "        tweak=[[-0.025,100],[-0.01,100]], # adjust text annotation\n",
    "        savepath=\"private_text2image-1B_throughput.png\"\n",
    ") "
   ]
  },
  {
   "cell_type": "code",
   "execution_count": null,
   "metadata": {
    "tags": []
   },
   "outputs": [],
   "source": [
    "%matplotlib inline\n",
    "evaluator.plot_power(\"text2image-1B\", \n",
    "        tweak=[[0.01,0.02],[-1900,0.02]], # adjust text annotation\n",
    "        savepath=\"private_text2image-1B_power.png\"\n",
    ") "
   ]
  },
  {
   "cell_type": "markdown",
   "metadata": {},
   "source": [
    "## Msspacev-1B Analysis"
   ]
  },
  {
   "cell_type": "code",
   "execution_count": null,
   "metadata": {
    "tags": []
   },
   "outputs": [],
   "source": [
    "%matplotlib inline\n",
    "evaluator.plot_recall(\"msspacev-1B\", \n",
    "        zoom=[[0,5000],[0.85, 0.99]], # provide zoom subplot extents\n",
    "        tweak=[[1000,0],[-1000,0.02]], # adjust text annotation\n",
    "        savepath=\"private_msspacev-1B_recall.png\"\n",
    ") "
   ]
  },
  {
   "cell_type": "code",
   "execution_count": null,
   "metadata": {
    "tags": []
   },
   "outputs": [],
   "source": [
    "%matplotlib inline\n",
    "evaluator.plot_throughput(\"msspacev-1B\", \n",
    "        zoom=[[0.90, 0.99],[0,5000],], # provide zoom subplot extents\n",
    "        tweak=[[-0.20,2000],[-0.0,1000]], # adjust text annotation\n",
    "        savepath=\"private_msspacev-1B_throughput.png\"\n",
    ") "
   ]
  },
  {
   "cell_type": "code",
   "execution_count": null,
   "metadata": {
    "tags": []
   },
   "outputs": [],
   "source": [
    "%matplotlib inline\n",
    "evaluator.plot_power(\"msspacev-1B\", \n",
    "        tweak=[[-0.25,0.05],[-3000,0.1]], # adjust text annotation\n",
    "        savepath=\"private_msspacev-1B_poweer.png\"\n",
    ") "
   ]
  },
  {
   "cell_type": "markdown",
   "metadata": {},
   "source": [
    "## Msturing-1B Analysis"
   ]
  },
  {
   "cell_type": "code",
   "execution_count": null,
   "metadata": {
    "tags": []
   },
   "outputs": [],
   "source": [
    "%matplotlib inline\n",
    "evaluator.plot_recall(\"msturing-1B\", \n",
    "        zoom=[[0,10000],[0.88, 0.92]], # provide zoom subplot extents\n",
    "        tweak=[[500,0],[200,0.001]], # adjust text annotation\n",
    "        savepath=\"private_msturing-1B_recall.png\"\n",
    ") "
   ]
  },
  {
   "cell_type": "code",
   "execution_count": null,
   "metadata": {
    "tags": []
   },
   "outputs": [],
   "source": [
    "%matplotlib inline\n",
    "evaluator.plot_throughput(\"msturing-1B\", \n",
    "        zoom=[[0.875,0.925],[2000, 3000]], # provide zoom subplot extents\n",
    "        tweak=[[-0.025,300],[-0.01,100]], # adjust text annotation\n",
    "        savepath=\"private_msturing-1B_throughput.png\"\n",
    ") "
   ]
  },
  {
   "cell_type": "code",
   "execution_count": null,
   "metadata": {
    "tags": []
   },
   "outputs": [],
   "source": [
    "%matplotlib inline\n",
    "evaluator.plot_power(\"msturing-1B\", \n",
    "        tweak=[[-0.02,0.02],[0,0.02]], # adjust text annotation\n",
    "        savepath=\"private_msturing-1B_power.png\"\n",
    ") "
   ]
  },
  {
   "cell_type": "markdown",
   "metadata": {},
   "source": [
    "## Ssnpp-1B Analysis"
   ]
  },
  {
   "cell_type": "code",
   "execution_count": null,
   "metadata": {
    "tags": []
   },
   "outputs": [],
   "source": [
    "%matplotlib inline\n",
    "evaluator.plot_recall(\"ssnpp-1B\", \n",
    "        zoom=[[0,5000],[0.95, 1.0]], # provide zoom subplot extents\n",
    "        tweak=[[0,-0.055],[-1500,-0.009]], # adjust text annotation\n",
    "        savepath=\"private_ssnpp-1B_recall.png\"\n",
    ")"
   ]
  },
  {
   "cell_type": "code",
   "execution_count": null,
   "metadata": {
    "tags": []
   },
   "outputs": [],
   "source": [
    "%matplotlib inline\n",
    "evaluator.plot_throughput(\"ssnpp-1B\", \n",
    "        zoom=[[0.88,1.0],[0, 8000]], # provide zoom subplot extents\n",
    "        tweak=[[-0.3,-1000],[-0.025,-500]], # adjust text annotation\n",
    "        savepath=\"ssnpp-1B_throughput.png\"\n",
    ") "
   ]
  },
  {
   "cell_type": "code",
   "execution_count": null,
   "metadata": {
    "tags": []
   },
   "outputs": [],
   "source": [
    "%matplotlib inline\n",
    "evaluator.plot_power(\"ssnpp-1B\", \n",
    "        tweak=[[-0.3,0.1],[2000,0.2]], # adjust text annotation\n",
    "        savepath=\"ssnpp-1B_power.png\"\n",
    ") "
   ]
  },
  {
   "cell_type": "code",
   "execution_count": null,
   "metadata": {},
   "outputs": [],
   "source": []
  }
 ],
 "metadata": {
  "kernelspec": {
   "display_name": "Python 3",
   "language": "python",
   "name": "python3"
  },
  "language_info": {
   "codemirror_mode": {
    "name": "ipython",
    "version": 3
   },
   "file_extension": ".py",
   "mimetype": "text/x-python",
   "name": "python",
   "nbconvert_exporter": "python",
   "pygments_lexer": "ipython3",
   "version": "3.8.5"
  }
 },
 "nbformat": 4,
 "nbformat_minor": 5
}
