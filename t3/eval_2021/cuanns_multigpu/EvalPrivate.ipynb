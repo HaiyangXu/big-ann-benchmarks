{
 "cells": [
  {
   "cell_type": "markdown",
   "metadata": {},
   "source": [
    "# T3 Analysis For The NVidia CUANNS Algorithm and GPU Hardware (Private Query Set)"
   ]
  },
  {
   "cell_type": "code",
   "execution_count": null,
   "metadata": {
    "tags": []
   },
   "outputs": [],
   "source": [
    "import sys\n",
    "sys.path.append(\"../..\") # make sure we can import t3eval.py from the toplevel 't3' directory\n",
    "import t3eval\n",
    "import importlib\n",
    "importlib.reload(t3eval)\n",
    "evaluator = t3eval.Evaluator(\"NVidia CUANNS Multi GPU\", # name of team/algo\n",
    "                             comp_path=\"../../competition2021.json\", # competition constants\n",
    "                             baseline_path=\"../../private_baseline2021.json\", # baseline constants\n",
    "                             verbose=False, # recommended True for debugging\n",
    "                            )\n",
    "evaluator.load_state_from_files(\"./private_summary.json\",\"./private_evals.json\")\n",
    "#evaluator.eval_all()\n",
    "#evaluator.show_summary(savepath=\"gemini_summary.png\")"
   ]
  },
  {
   "cell_type": "markdown",
   "metadata": {},
   "source": [
    "## Deep1B Analysis"
   ]
  },
  {
   "cell_type": "code",
   "execution_count": null,
   "metadata": {
    "tags": []
   },
   "outputs": [],
   "source": [
    "%matplotlib inline\n",
    "evaluator.plot_recall(\"deep-1B\", \n",
    "        zoom=[[0,100000],[0.97, 0.999]], # provide zoom subplot extents\n",
    "        tweak=[[50000,0],[-10000,0.002]], # adjust text annotation\n",
    "        savepath=\"private_deep-1B_recall.png\"\n",
    ") "
   ]
  },
  {
   "cell_type": "code",
   "execution_count": null,
   "metadata": {
    "tags": []
   },
   "outputs": [],
   "source": [
    "%matplotlib inline\n",
    "evaluator.plot_throughput(\"deep-1B\", \n",
    "        zoom=[[0.88, 0.94],[700000,2000000]], # provide zoom subplot extents\n",
    "        tweak=[[0.01,0],[-0.01,100000]], # adjust text annotation\n",
    "        savepath=\"private_deep-1B_throughput.png\"\n",
    ") "
   ]
  },
  {
   "cell_type": "code",
   "execution_count": null,
   "metadata": {
    "tags": []
   },
   "outputs": [],
   "source": [
    "%matplotlib inline\n",
    "evaluator.plot_power(\"deep-1B\", \n",
    "        tweak=[[0.0,0.001],[-480000,0.001]], # adjust text annotation\n",
    "        savepath=\"private_deep-1B_power.png\"\n",
    ") "
   ]
  },
  {
   "cell_type": "markdown",
   "metadata": {},
   "source": [
    "## Bigann-1B Analysis"
   ]
  },
  {
   "cell_type": "code",
   "execution_count": null,
   "metadata": {
    "tags": []
   },
   "outputs": [],
   "source": [
    "%matplotlib inline\n",
    "evaluator.plot_recall(\"bigann-1B\", \n",
    "        zoom=[[100000,200000],[0.97, 1.0]], # provide zoom subplot extents\n",
    "        tweak=[[50000,0],[0,-0.002]], # adjust text annotation\n",
    "        savepath=\"private_bigann-1B_recall.png\"\n",
    ") "
   ]
  },
  {
   "cell_type": "code",
   "execution_count": null,
   "metadata": {
    "tags": []
   },
   "outputs": [],
   "source": [
    "%matplotlib inline\n",
    "evaluator.plot_throughput(\"bigann-1B\", \n",
    "        zoom=[[0.87, 0.93],[600000,800000]], # provide zoom subplot extents\n",
    "        tweak=[[0.0,35000],[-0.02,10000]], # adjust text annotation\n",
    "        savepath=\"private_bigann-1B_throughput.png\"\n",
    ") "
   ]
  },
  {
   "cell_type": "code",
   "execution_count": null,
   "metadata": {
    "tags": []
   },
   "outputs": [],
   "source": [
    "%matplotlib inline\n",
    "evaluator.plot_power(\"bigann-1B\", \n",
    "        tweak=[[0,0.001],[-450000,0.001]], # adjust text annotation\n",
    "        savepath=\"private_bigann-1B_power.png\"\n",
    ") "
   ]
  },
  {
   "cell_type": "markdown",
   "metadata": {},
   "source": [
    "## Text2Image-1B Analysis"
   ]
  },
  {
   "cell_type": "code",
   "execution_count": null,
   "metadata": {
    "tags": []
   },
   "outputs": [],
   "source": [
    "%matplotlib inline\n",
    "evaluator.plot_recall(\"text2image-1B\", \n",
    "        zoom=None, #[[10000,10700],[0.902, 0.905]], # provide zoom subplot extents\n",
    "        tweak=None, #[[200,-0.0005],[-400,0.001]], # adjust text annotation\n",
    "        savepath=\"private_text2image-1B_recall.png\"\n",
    ") "
   ]
  },
  {
   "cell_type": "code",
   "execution_count": null,
   "metadata": {
    "tags": []
   },
   "outputs": [],
   "source": [
    "%matplotlib inline\n",
    "evaluator.plot_throughput(\"text2image-1B\", \n",
    "        zoom=None, #[[0.900,0.902],[10700, 11000]], # provide zoom subplot extents\n",
    "        tweak=None, #[[-0.001,100],[-0.00,100]], # adjust text annotation\n",
    "        savepath=\"private_text2image-1B_throughput.png\"\n",
    ") "
   ]
  },
  {
   "cell_type": "code",
   "execution_count": null,
   "metadata": {
    "tags": []
   },
   "outputs": [],
   "source": [
    "%matplotlib inline\n",
    "evaluator.plot_power(\"text2image-1B\", \n",
    "        tweak=None, #[[-0.001, 0.001],[-200,0.001]], # adjust text annotation\n",
    "        savepath=\"private_text2image-1B_power.png\"\n",
    ") "
   ]
  },
  {
   "cell_type": "markdown",
   "metadata": {},
   "source": [
    "## Msspacev-1B Analysis"
   ]
  },
  {
   "cell_type": "code",
   "execution_count": null,
   "metadata": {
    "tags": []
   },
   "outputs": [],
   "source": [
    "%matplotlib inline\n",
    "evaluator.plot_recall(\"msspacev-1B\", \n",
    "        zoom=[[0,300000],[0.97, 0.999]], # provide zoom subplot extents\n",
    "        tweak=[[50000,0],[50000, 0.00]], # adjust text annotation\n",
    "        savepath=\"private_msspacev-1B_recall.png\"\n",
    ") "
   ]
  },
  {
   "cell_type": "code",
   "execution_count": null,
   "metadata": {
    "tags": []
   },
   "outputs": [],
   "source": [
    "%matplotlib inline\n",
    "evaluator.plot_throughput(\"msspacev-1B\", \n",
    "        zoom=[[0.90, 0.95],[700000,900000],], # provide zoom subplot extents\n",
    "        tweak=[[0.01,0],[0.01,0]], # adjust text annotation\n",
    "        savepath=\"private_msspacev-1B_throughput.png\"\n",
    ") "
   ]
  },
  {
   "cell_type": "code",
   "execution_count": null,
   "metadata": {
    "tags": []
   },
   "outputs": [],
   "source": [
    "%matplotlib inline\n",
    "evaluator.plot_power(\"msspacev-1B\", \n",
    "        tweak=[[0.005,0.002],[-490000,0.002]], # adjust text annotation\n",
    "        savepath=\"private_msspacev-1B_power.png\"\n",
    ") "
   ]
  },
  {
   "cell_type": "markdown",
   "metadata": {},
   "source": [
    "## Msturing-1B Analysis"
   ]
  },
  {
   "cell_type": "code",
   "execution_count": null,
   "metadata": {
    "tags": []
   },
   "outputs": [],
   "source": [
    "%matplotlib inline\n",
    "evaluator.plot_recall(\"msturing-1B\", \n",
    "        zoom=[[10000,200000],[0.98, 0.999]], # provide zoom subplot extents\n",
    "        tweak=[[10000,-0.01],[-10000,0.001]], # adjust text annotation\n",
    "        savepath=\"private_msturing-1B_recall.png\"\n",
    ") "
   ]
  },
  {
   "cell_type": "code",
   "execution_count": null,
   "metadata": {
    "tags": []
   },
   "outputs": [],
   "source": [
    "%matplotlib inline\n",
    "evaluator.plot_throughput(\"msturing-1B\", \n",
    "        zoom=[[0.88,0.93],[350000, 500000]], # provide zoom subplot extents\n",
    "        tweak=[[0.01,0],[-0.015,40000]], # adjust text annotation\n",
    "        savepath=\"private_msturing-1B_throughput.png\"\n",
    ") "
   ]
  },
  {
   "cell_type": "code",
   "execution_count": null,
   "metadata": {
    "tags": []
   },
   "outputs": [],
   "source": [
    "%matplotlib inline\n",
    "evaluator.plot_power(\"msturing-1B\", \n",
    "        tweak=[[-0.01,0.001],[-380000,0.001]], # adjust text annotation\n",
    "        savepath=\"private_msturing-1B_power.png\"\n",
    ") "
   ]
  },
  {
   "cell_type": "markdown",
   "metadata": {},
   "source": [
    "## Ssnpp-1B Analysis"
   ]
  },
  {
   "cell_type": "code",
   "execution_count": null,
   "metadata": {
    "tags": []
   },
   "outputs": [],
   "source": [
    "%matplotlib inline\n",
    "evaluator.plot_recall(\"ssnpp-1B\", \n",
    "        zoom=None, #[[1900,2600],[0.97, 0.99]], # provide zoom subplot extents\n",
    "        tweak=None, #[[2000,0],[0,-0.009]], # adjust text annotation\n",
    "        savepath=\"private_ssnpp-1B_recall.png\"\n",
    ")"
   ]
  },
  {
   "cell_type": "code",
   "execution_count": null,
   "metadata": {
    "tags": []
   },
   "outputs": [],
   "source": [
    "%matplotlib inline\n",
    "evaluator.plot_throughput(\"ssnpp-1B\", \n",
    "        zoom=None, #[[8000,10000],[0.87, 0.95]], # provide zoom subplot extents\n",
    "        tweak=None, #[[-0.01,-2000],[-0.025,300]], # adjust text annotation\n",
    "        savepath=\"private_ssnpp-1B_throughput.png\"\n",
    ") "
   ]
  },
  {
   "cell_type": "code",
   "execution_count": null,
   "metadata": {
    "tags": []
   },
   "outputs": [],
   "source": [
    "%matplotlib inline\n",
    "evaluator.plot_power(\"ssnpp-1B\", \n",
    "        tweak=None, #[[0,0.1],[-5000,0.1]], # adjust text annotation\n",
    "        savepath=\"private_ssnpp-1B_power.png\"\n",
    ") "
   ]
  }
 ],
 "metadata": {
  "kernelspec": {
   "display_name": "Python 3",
   "language": "python",
   "name": "python3"
  },
  "language_info": {
   "codemirror_mode": {
    "name": "ipython",
    "version": 3
   },
   "file_extension": ".py",
   "mimetype": "text/x-python",
   "name": "python",
   "nbconvert_exporter": "python",
   "pygments_lexer": "ipython3",
   "version": "3.8.5"
  }
 },
 "nbformat": 4,
 "nbformat_minor": 5
}
